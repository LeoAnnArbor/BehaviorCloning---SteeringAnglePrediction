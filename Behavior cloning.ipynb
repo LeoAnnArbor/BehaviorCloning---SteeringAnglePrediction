{
 "cells": [
  {
   "cell_type": "markdown",
   "metadata": {},
   "source": [
    "# Data Preprocessing"
   ]
  },
  {
   "cell_type": "code",
   "execution_count": 1,
   "metadata": {
    "collapsed": true
   },
   "outputs": [],
   "source": [
    "import csv\n",
    "import cv2\n",
    "import numpy as np\n",
    "import matplotlib\n",
    "import matplotlib.pyplot as plt\n",
    "from sklearn.utils import shuffle\n",
    "from sklearn.model_selection import train_test_split\n",
    "import random"
   ]
  },
  {
   "cell_type": "markdown",
   "metadata": {},
   "source": [
    "## Import training data"
   ]
  },
  {
   "cell_type": "code",
   "execution_count": 25,
   "metadata": {
    "collapsed": true
   },
   "outputs": [],
   "source": [
    "lines = []\n",
    "with open('./data/driving_log.csv') as csvfile:\n",
    "    reader = csv.reader(csvfile)\n",
    "    \n",
    "    for line in reader:\n",
    "        lines.append(line)\n",
    "        \n",
    "images = []\n",
    "measurements = []\n",
    "\n",
    "for line in lines:\n",
    "    \n",
    "    for i in range(3):\n",
    "        source_path = line[i]\n",
    "        filename = source_path.split('/')[-1]\n",
    "        current_path = './data/IMG/' + filename\n",
    "        image = cv2.imread(current_path)\n",
    "        images.append(image)\n",
    "        \n",
    "        correction = 0.2 # this is a parameter to tune\n",
    "        if i == 0:\n",
    "            steering_center = float(line[3])\n",
    "            measurements.append(steering_center)\n",
    "        elif i == 1:\n",
    "            steering_left = steering_center + correction\n",
    "            measurements.append(steering_left)\n",
    "        else:\n",
    "            steering_right = steering_center - correction\n",
    "            measurements.append(steering_right)\n"
   ]
  },
  {
   "cell_type": "code",
   "execution_count": null,
   "metadata": {
    "collapsed": true
   },
   "outputs": [],
   "source": [
    "# sample visualization\n",
    "plt.imshow(cv2.cvtColor(image, cv2.COLOR_BGR2RGB))\n",
    "plt.show()\n",
    "len(images)"
   ]
  },
  {
   "cell_type": "markdown",
   "metadata": {},
   "source": [
    "## Data augmentation"
   ]
  },
  {
   "cell_type": "code",
   "execution_count": 85,
   "metadata": {
    "collapsed": true
   },
   "outputs": [],
   "source": [
    "def preprocess_image(img):\n",
    "    '''\n",
    "    Method for preprocessing images: this method is the same used in drive.py, except this version uses\n",
    "    BGR to YUV and drive.py uses RGB to YUV (due to using cv2 to read the image here, where drive.py images are \n",
    "    received in RGB)\n",
    "    '''\n",
    "    # original shape: 160x320x3, input shape for neural net: 66x200x3\n",
    "    # crop image\n",
    "    new_img = img[50:140,:,:]\n",
    "    # scale to 66x200x3 (same as nVidia)\n",
    "    new_img = cv2.resize(new_img,(200, 66), interpolation = cv2.INTER_AREA)\n",
    "    # convert to YUV color space (as nVidia paper suggests)\n",
    "    new_img = cv2.cvtColor(new_img, cv2.COLOR_BGR2YUV)\n",
    "    return new_img"
   ]
  },
  {
   "cell_type": "code",
   "execution_count": 86,
   "metadata": {
    "collapsed": true
   },
   "outputs": [],
   "source": [
    "def randomise_image_brightness(image):\n",
    "    hsv = cv2.cvtColor(image, cv2.COLOR_RGB2HSV)\n",
    "    # brightness\n",
    "    randomLight = 0.3 + np.random.rand() \n",
    "    hsv[:,:,2] =  hsv[:,:,2] * randomLight\n",
    "    \n",
    "    return cv2.cvtColor(cv2.cvtColor(hsv, cv2.COLOR_HSV2RGB), cv2.COLOR_RGB2YUV)\n",
    "#     return cv2.cvtColor(cv2.cvtColor(hsv, cv2.COLOR_HSV2RGB), cv2.COLOR_RGB2YUV)"
   ]
  },
  {
   "cell_type": "code",
   "execution_count": 87,
   "metadata": {
    "collapsed": true
   },
   "outputs": [],
   "source": [
    "def jitter_image_rotation(image, steering):\n",
    "    rows, cols, _ = image.shape\n",
    "    transRange = 100\n",
    "    numPixels = 10\n",
    "    valPixels = 0.4\n",
    "    transX = transRange * np.random.uniform() - transRange/2\n",
    "    steering = steering + transX/transRange * 2 * valPixels\n",
    "    transY = numPixels * np.random.uniform() - numPixels/2\n",
    "    transMat = np.float32([[1,0, transX], [0,1, transY]])\n",
    "    image = cv2.warpAffine(image, transMat, (cols, rows))\n",
    "    return (image, steering)"
   ]
  },
  {
   "cell_type": "markdown",
   "metadata": {},
   "source": [
    "## Use generators to load and preprocess data on the fly"
   ]
  },
  {
   "cell_type": "code",
   "execution_count": 88,
   "metadata": {
    "collapsed": true
   },
   "outputs": [],
   "source": [
    "samples = []\n",
    "with open('./data/driving_log.csv') as csvfile:\n",
    "    reader = csv.reader(csvfile)\n",
    "    \n",
    "    for line in reader:\n",
    "        samples.append(line)\n",
    "\n",
    "train_samples, validation_samples = train_test_split(samples, test_size=0.2)"
   ]
  },
  {
   "cell_type": "code",
   "execution_count": 89,
   "metadata": {
    "collapsed": true
   },
   "outputs": [],
   "source": [
    "def generator(samples, batch_size=64):\n",
    "    num_samples = len(samples)\n",
    "    while 1: # Loop forever so the generator never terminates\n",
    "        shuffle(samples)\n",
    "        for offset in range(0, num_samples, batch_size):\n",
    "            batch_samples = samples[offset:offset+batch_size]\n",
    "\n",
    "            images = []\n",
    "            measurements = []\n",
    "            \n",
    "            for batch_sample in batch_samples:\n",
    "                \n",
    "                for idx in range(3):\n",
    "                    name = './data/IMG/'+ batch_sample[idx].split('/')[-1]\n",
    "                    image = cv2.imread(name)\n",
    "                    \n",
    "                    image = preprocess_image(image)\n",
    "\n",
    "                    correction_left = 0.25 # this is a parameter to tune\n",
    "                    correction_right = 0.25\n",
    "                    steering_center = float(batch_sample[3])\n",
    "                    images.append(image)\n",
    "\n",
    "                    if idx == 0:\n",
    "                        measurements.append(steering_center)\n",
    "                    elif idx == 1:\n",
    "                        steering_left = steering_center + correction_left\n",
    "                        measurements.append(steering_left)\n",
    "                    else:\n",
    "                        steering_right = steering_center - correction_right\n",
    "                        measurements.append(steering_right)\n",
    "            \n",
    "            # augment the data by flipping horizontally\n",
    "            augmented_images, augmented_measurements = [], []\n",
    "\n",
    "            for image, measurement in zip(images, measurements):\n",
    "                augmented_images.append(image)\n",
    "                augmented_measurements.append(measurement)\n",
    "    \n",
    "                augmented_images.append(cv2.flip(image,1))\n",
    "                augmented_measurements.append(measurement*(-1.0))\n",
    "            \n",
    "            # augment the data by randomize the brightness\n",
    "            train_images, train_measurements = [], []\n",
    "\n",
    "            for image, measurement in zip(augmented_images, augmented_measurements):    \n",
    "                train_images.append(randomise_image_brightness(image))\n",
    "                train_measurements.append(measurement)\n",
    "                \n",
    "                image_jitter, measurement_jitter = jitter_image_rotation(image, measurement)\n",
    "                \n",
    "                train_images.append(image_jitter)\n",
    "                train_measurements.append(measurement_jitter)               \n",
    "            # trim image to only see section with road\n",
    "            X_train = np.array(train_images)\n",
    "            y_train = np.array(train_measurements)\n",
    "            \n",
    "            yield shuffle(X_train, y_train)"
   ]
  },
  {
   "cell_type": "markdown",
   "metadata": {},
   "source": [
    "## Training using Keras"
   ]
  },
  {
   "cell_type": "code",
   "execution_count": 90,
   "metadata": {},
   "outputs": [],
   "source": [
    "from keras.models import Sequential\n",
    "from keras.layers import Flatten, Dense, Lambda\n",
    "from keras.layers.convolutional import Convolution2D\n",
    "from keras.layers.pooling import MaxPooling2D\n",
    "from keras.layers import Cropping2D\n",
    "from keras.models import Model\n",
    "from keras.regularizers import l2\n",
    "from keras.optimizers import Adam\n",
    "from keras.layers.core import Dropout\n",
    "\n",
    "ch, row, col = 3, 66, 200  # Trimmed image format\n",
    "\n",
    "model = Sequential()\n",
    "model.add(Lambda(lambda x: x/127.5 - 1.,\n",
    "        input_shape=(row, col, ch)))\n",
    "model.add(Convolution2D(24, 5, 5, subsample=(2, 2), border_mode='valid', W_regularizer=l2(0.001), activation = \"relu\"))\n",
    "model.add(Dropout(0.3))\n",
    "\n",
    "model.add(Convolution2D(36, 5, 5, subsample=(2, 2), border_mode='valid', W_regularizer=l2(0.001), activation = \"relu\"))\n",
    "model.add(Dropout(0.3))\n",
    "\n",
    "model.add(Convolution2D(48, 5, 5, subsample=(2, 2), border_mode='valid', W_regularizer=l2(0.001), activation = \"relu\"))\n",
    "model.add(Dropout(0.3))\n",
    "\n",
    "model.add(Convolution2D(64, 3, 3, border_mode='valid', W_regularizer=l2(0.001), activation = \"relu\"))\n",
    "model.add(Dropout(0.3))\n",
    "\n",
    "model.add(Convolution2D(64, 3, 3, border_mode='valid', W_regularizer=l2(0.001), activation = \"relu\"))\n",
    "model.add(Dropout(0.3))\n",
    "\n",
    "model.add(Flatten())\n",
    "model.add(Dense(100, W_regularizer=l2(0.001)))\n",
    "model.add(Dropout(0.5))\n",
    "\n",
    "model.add(Dense(50, W_regularizer=l2(0.001)))\n",
    "model.add(Dropout(0.5))\n",
    "\n",
    "model.add(Dense(10, W_regularizer=l2(0.001)))\n",
    "model.add(Dropout(0.5))\n",
    "\n",
    "model.add(Dense(1))"
   ]
  },
  {
   "cell_type": "code",
   "execution_count": 91,
   "metadata": {
    "collapsed": true
   },
   "outputs": [],
   "source": [
    "# compile and train the model using the generator function\n",
    "train_generator = generator(train_samples, batch_size=64)\n",
    "validation_generator = generator(validation_samples, batch_size=64)"
   ]
  },
  {
   "cell_type": "code",
   "execution_count": 92,
   "metadata": {},
   "outputs": [
    {
     "name": "stdout",
     "output_type": "stream",
     "text": [
      "Epoch 1/20\n",
      "77136/77136 [==============================] - 84s - loss: 0.5224 - val_loss: 0.4902\n",
      "Epoch 2/20\n",
      "77136/77136 [==============================] - 83s - loss: 0.4534 - val_loss: 0.4340\n",
      "Epoch 3/20\n",
      "77136/77136 [==============================] - 83s - loss: 0.3950 - val_loss: 0.3827\n",
      "Epoch 4/20\n",
      "77136/77136 [==============================] - 83s - loss: 0.3419 - val_loss: 0.3329\n",
      "Epoch 5/20\n",
      "77136/77136 [==============================] - 84s - loss: 0.2954 - val_loss: 0.2893\n",
      "Epoch 6/20\n",
      "77136/77136 [==============================] - 83s - loss: 0.2550 - val_loss: 0.2467\n",
      "Epoch 7/20\n",
      "77136/77136 [==============================] - 83s - loss: 0.2216 - val_loss: 0.2151\n",
      "Epoch 8/20\n",
      "77136/77136 [==============================] - 83s - loss: 0.1927 - val_loss: 0.1897\n",
      "Epoch 9/20\n",
      "77136/77136 [==============================] - 83s - loss: 0.1692 - val_loss: 0.1628\n",
      "Epoch 10/20\n",
      "77136/77136 [==============================] - 84s - loss: 0.1495 - val_loss: 0.1430\n",
      "Epoch 11/20\n",
      "77136/77136 [==============================] - 83s - loss: 0.1331 - val_loss: 0.1275\n",
      "Epoch 12/20\n",
      "77136/77136 [==============================] - 83s - loss: 0.1193 - val_loss: 0.1135\n",
      "Epoch 13/20\n",
      "77136/77136 [==============================] - 83s - loss: 0.1080 - val_loss: 0.0999\n",
      "Epoch 14/20\n",
      "77136/77136 [==============================] - 83s - loss: 0.0983 - val_loss: 0.0928\n",
      "Epoch 15/20\n",
      "77136/77136 [==============================] - 83s - loss: 0.0901 - val_loss: 0.0839\n",
      "Epoch 16/20\n",
      "77136/77136 [==============================] - 84s - loss: 0.0832 - val_loss: 0.0762\n",
      "Epoch 17/20\n",
      "77136/77136 [==============================] - 83s - loss: 0.0778 - val_loss: 0.0740\n",
      "Epoch 18/20\n",
      "77136/77136 [==============================] - 83s - loss: 0.0725 - val_loss: 0.0691\n",
      "Epoch 19/20\n",
      "77136/77136 [==============================] - 83s - loss: 0.0683 - val_loss: 0.0623\n",
      "Epoch 20/20\n",
      "77136/77136 [==============================] - 83s - loss: 0.0646 - val_loss: 0.0574\n"
     ]
    }
   ],
   "source": [
    "model.compile(loss = 'mse', optimizer=Adam(lr=1e-4))\n",
    "history_object = model.fit_generator(train_generator, samples_per_epoch =\n",
    "    12*len(train_samples), validation_data = \n",
    "    validation_generator,\n",
    "    nb_val_samples = 12*len(validation_samples), \n",
    "    nb_epoch=20, verbose=1)"
   ]
  },
  {
   "cell_type": "code",
   "execution_count": 93,
   "metadata": {},
   "outputs": [
    {
     "name": "stdout",
     "output_type": "stream",
     "text": [
      "dict_keys(['loss', 'val_loss'])\n"
     ]
    },
    {
     "data": {
      "image/png": "[encoded data removed]",
      "text/plain": [
       "<matplotlib.figure.Figure at 0x7ff65da5c6d8>"
      ]
     },
     "metadata": {},
     "output_type": "display_data"
    }
   ],
   "source": [
    "### print the keys contained in the history object\n",
    "print(history_object.history.keys())\n",
    "\n",
    "### plot the training and validation loss for each epoch\n",
    "plt.plot(history_object.history['loss'])\n",
    "plt.plot(history_object.history['val_loss'])\n",
    "plt.title('model mean squared error loss')\n",
    "plt.ylabel('mean squared error loss')\n",
    "plt.xlabel('epoch')\n",
    "plt.legend(['training set', 'validation set'], loc='upper right')\n",
    "plt.show()"
   ]
  },
  {
   "cell_type": "code",
   "execution_count": 94,
   "metadata": {
    "collapsed": true
   },
   "outputs": [],
   "source": [
    "model.save('model0523v9.h5')"
   ]
  },
  {
   "cell_type": "code",
   "execution_count": null,
   "metadata": {
    "collapsed": true
   },
   "outputs": [],
   "source": []
  }
 ],
 "metadata": {
  "kernelspec": {
   "display_name": "Python 3",
   "language": "python",
   "name": "python3"
  },
  "language_info": {
   "codemirror_mode": {
    "name": "ipython",
    "version": 3
   },
   "file_extension": ".py",
   "mimetype": "text/x-python",
   "name": "python",
   "nbconvert_exporter": "python",
   "pygments_lexer": "ipython3",
   "version": "3.5.2"
  },
  "widgets": {
   "state": {},
   "version": "1.1.2"
  }
 },
 "nbformat": 4,
 "nbformat_minor": 2
}
